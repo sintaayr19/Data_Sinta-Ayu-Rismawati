{
 "cells": [
  {
   "cell_type": "code",
   "execution_count": 2,
   "metadata": {},
   "outputs": [],
   "source": [
    "import pandas as pd"
   ]
  },
  {
   "cell_type": "code",
   "execution_count": 3,
   "metadata": {},
   "outputs": [],
   "source": [
    "# extract \n",
    "customer_feedback = pd.read_csv('C:/MSIB_DE/Data_Sinta-Ayu-Rismawati/CodeCompetence2/DataSource/customer_feedback.csv')\n",
    "customers = pd.read_csv('C:/MSIB_DE/Data_Sinta-Ayu-Rismawati/CodeCompetence2/DataSource/customers.csv')\n",
    "events = pd.read_csv('C:/MSIB_DE/Data_Sinta-Ayu-Rismawati/CodeCompetence2/DataSource/events.csv')\n",
    "tickets = pd.read_csv('C:/MSIB_DE/Data_Sinta-Ayu-Rismawati/CodeCompetence2/DataSource/tickets.csv')\n",
    "transactions = pd.read_csv('C:/MSIB_DE/Data_Sinta-Ayu-Rismawati/CodeCompetence2/DataSource/transactions.csv')\n",
    "\n",
    "# handle missing value\n",
    "customer_feedback = customer_feedback.dropna()\n",
    "customers = customers.dropna()\n",
    "events = events.dropna()\n",
    "tickets = tickets.dropna()\n",
    "transactions = transactions.dropna()\n",
    "transactions = transactions[transactions['total_amount'] != 0]\n",
    "\n",
    "# handle outliers \n",
    "def handle_outliers(data, column):\n",
    "    Q1 = data[column].quantile(0.25)\n",
    "    Q3 = data[column].quantile(0.75)\n",
    "    IQR = Q3 - Q1\n",
    "    lower_bound = Q1 - (1.5 * IQR)\n",
    "    upper_bound = Q3 + (1.5 * IQR)\n",
    "    data = data[data[column] <= upper_bound]\n",
    "    data = data[data[column] >= lower_bound]\n",
    "    return data\n",
    "\n",
    "transactions = handle_outliers(transactions, 'quantity')\n",
    "transactions = handle_outliers(transactions, 'total_amount')\n",
    "tickets = handle_outliers(tickets, 'price')\n",
    "\n",
    "# save to parquet\n",
    "customer_feedback.to_parquet('C:/MSIB_DE/Data_Sinta-Ayu-Rismawati/CodeCompetence2/DataIngestionResult/customer_feedback.parquet')\n",
    "customers.to_parquet('C:/MSIB_DE/Data_Sinta-Ayu-Rismawati/CodeCompetence2/DataIngestionResult/customers.parquet')\n",
    "events.to_parquet('C:/MSIB_DE/Data_Sinta-Ayu-Rismawati/CodeCompetence2/DataIngestionResult/events.parquet')\n",
    "tickets.to_parquet('C:/MSIB_DE/Data_Sinta-Ayu-Rismawati/CodeCompetence2/DataIngestionResult/tickets.parquet')\n",
    "transactions.to_parquet('C:/MSIB_DE/Data_Sinta-Ayu-Rismawati/CodeCompetence2/DataIngestionResult/transactions.parquet')"
   ]
  }
 ],
 "metadata": {
  "kernelspec": {
   "display_name": "Python 3",
   "language": "python",
   "name": "python3"
  },
  "language_info": {
   "codemirror_mode": {
    "name": "ipython",
    "version": 3
   },
   "file_extension": ".py",
   "mimetype": "text/x-python",
   "name": "python",
   "nbconvert_exporter": "python",
   "pygments_lexer": "ipython3",
   "version": "3.11.9"
  }
 },
 "nbformat": 4,
 "nbformat_minor": 2
}
