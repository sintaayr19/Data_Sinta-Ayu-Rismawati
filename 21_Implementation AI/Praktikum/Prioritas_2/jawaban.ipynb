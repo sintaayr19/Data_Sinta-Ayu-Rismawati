{
 "cells": [
  {
   "cell_type": "code",
   "execution_count": 8,
   "metadata": {},
   "outputs": [
    {
     "name": "stdout",
     "output_type": "stream",
     "text": [
      "**Query SQL untuk Membuat Schema Database:**\n",
      "\n",
      "```sql\n",
      "CREATE TABLE Sales (\n",
      "  TransactionDate DATE NOT NULL,\n",
      "  QuantitySold INT NOT NULL,\n",
      "  UnitPrice DECIMAL(10, 2) NOT NULL,\n",
      "  ProductCategory VARCHAR(50) NOT NULL\n",
      ");\n",
      "```\n",
      "\n",
      "**Query SQL untuk Insert Data:**\n",
      "\n",
      "```sql\n",
      "INSERT INTO Sales (TransactionDate, QuantitySold, UnitPrice, ProductCategory) VALUES\n",
      "('2023-02-01', 10, 10.00, 'Electronics'),\n",
      "('2023-02-02', 15, 15.00, 'Clothing'),\n",
      "('2023-02-03', 20, 20.00, 'Grocery'),\n",
      "('2023-02-04', 25, 25.00, 'Electronics'),\n",
      "('2023-02-05', 30, 30.00, 'Clothing'),\n",
      "('2023-02-06', 35, 35.00, 'Grocery'),\n",
      "('2023-02-07', 40, 40.00, 'Electronics'),\n",
      "('2023-02-08', 45, 45.00, 'Clothing'),\n",
      "('2023-02-09', 50, 50.00, 'Grocery'),\n",
      "('2023-02-10', 55, 55.00, 'Electronics'),\n",
      "('2023-02-11', 60, 60.00, 'Clothing'),\n",
      "('2023-02-12', 65, 65.00, 'Grocery'),\n",
      "('2023-02-13', 70, 70.00, 'Electronics'),\n",
      "('2023-02-14', 75, 75.00, 'Clothing'),\n",
      "('2023-02-15', 80, 80.00, 'Grocery'),\n",
      "('2023-02-16', 85, 85.00, 'Electronics'),\n",
      "('2023-02-17', 90, 90.00, 'Clothing'),\n",
      "('2023-02-18', 95, 95.00, 'Grocery'),\n",
      "('2023-02-19', 100, 100.00, 'Electronics'),\n",
      "('2023-02-20', 105, 105.00, 'Clothing');\n",
      "```\n",
      "\n",
      "**Query SQL untuk Menampilkan Total Jumlah Penjualan Tiap Kategori Produk:**\n",
      "\n",
      "```sql\n",
      "SELECT ProductCategory, SUM(QuantitySold * UnitPrice) AS TotalSales\n",
      "FROM Sales\n",
      "GROUP BY ProductCategory;\n",
      "```\n"
     ]
    }
   ],
   "source": [
    "import yaml\n",
    "import google.generativeai as genai\n",
    "\n",
    "with open('gemini_key.yml', 'r') as file:\n",
    "    api_creds = yaml.safe_load(file)\n",
    "\n",
    "GOOGLE_API_KEY = api_creds['gemini_key']\n",
    "\n",
    "genai.configure(api_key=GOOGLE_API_KEY)\n",
    "model = genai.GenerativeModel('gemini-pro')\n",
    "\n",
    "response = model.generate_content(\"buat query sql untuk membuat schema database terkait aplikasi retail dengan atribut  tanggal transaksi, jumlah penjualan, harga, kategori produk. serta berikan query untuk insert data sebanyak 20 baris. selanjutnya, berikan query untuk menampilkan data total jumlah penjualan tiap kategori produk.\")\n",
    "print(response.text)"
   ]
  }
 ],
 "metadata": {
  "kernelspec": {
   "display_name": "Python 3",
   "language": "python",
   "name": "python3"
  },
  "language_info": {
   "codemirror_mode": {
    "name": "ipython",
    "version": 3
   },
   "file_extension": ".py",
   "mimetype": "text/x-python",
   "name": "python",
   "nbconvert_exporter": "python",
   "pygments_lexer": "ipython3",
   "version": "3.12.2"
  }
 },
 "nbformat": 4,
 "nbformat_minor": 2
}
