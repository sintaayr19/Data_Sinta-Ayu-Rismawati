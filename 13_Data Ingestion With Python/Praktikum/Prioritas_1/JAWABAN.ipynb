{
 "cells": [
  {
   "cell_type": "code",
   "execution_count": null,
   "metadata": {},
   "outputs": [],
   "source": [
    "! pip list"
   ]
  },
  {
   "cell_type": "code",
   "execution_count": null,
   "metadata": {},
   "outputs": [],
   "source": [
    "! pip install requests"
   ]
  },
  {
   "cell_type": "markdown",
   "metadata": {},
   "source": [
    "# No.1"
   ]
  },
  {
   "cell_type": "code",
   "execution_count": 6,
   "metadata": {},
   "outputs": [],
   "source": [
    "import pandas as pd \n",
    "\n",
    "load_transactions_csv = pd.read_csv('transactions.csv')\n",
    "load_products_xlsx = pd.read_excel('products.xlsx')\n",
    "\n",
    "df_transactions_csv = pd.DataFrame(load_transactions_csv)\n",
    "df_products_xlsx = pd.DataFrame(load_products_xlsx)\n",
    "\n",
    "df_transactions_csv.to_parquet('transactions.parquet')\n",
    "df_products_xlsx.to_parquet('products.parquet')"
   ]
  },
  {
   "cell_type": "markdown",
   "metadata": {},
   "source": [
    "# No.2"
   ]
  },
  {
   "cell_type": "code",
   "execution_count": 7,
   "metadata": {},
   "outputs": [],
   "source": [
    "from pymysql import connect\n",
    "\n",
    "connection = connect(\n",
    "    host='localhost',\n",
    "    db='customers',\n",
    "    user='root',\n",
    "    password='',\n",
    "    port=3307\n",
    ")\n",
    "\n",
    "cursor = connection.cursor()\n",
    "\n",
    "cursor.execute('select*from customers')\n",
    "cutomers = cursor.fetchall()\n",
    "\n",
    "df_customers = pd.DataFrame(cutomers, columns=['id','name','email','address'])\n",
    "\n",
    "df_customers.to_parquet('customer.parquet')"
   ]
  },
  {
   "cell_type": "markdown",
   "metadata": {},
   "source": [
    "# No.3"
   ]
  },
  {
   "cell_type": "code",
   "execution_count": 5,
   "metadata": {},
   "outputs": [],
   "source": [
    "import requests\n",
    "\n",
    "url = \"https://fakestoreapi.com/products\"\n",
    "store_api = requests.get(url).json()\n",
    "\n",
    "df_store_api = pd.DataFrame(store_api)\n",
    "\n",
    "df_store_api.to_parquet(\"store_api.parquet\")"
   ]
  }
 ],
 "metadata": {
  "kernelspec": {
   "display_name": "Python 3",
   "language": "python",
   "name": "python3"
  },
  "language_info": {
   "codemirror_mode": {
    "name": "ipython",
    "version": 3
   },
   "file_extension": ".py",
   "mimetype": "text/x-python",
   "name": "python",
   "nbconvert_exporter": "python",
   "pygments_lexer": "ipython3",
   "version": "3.12.2"
  }
 },
 "nbformat": 4,
 "nbformat_minor": 2
}
