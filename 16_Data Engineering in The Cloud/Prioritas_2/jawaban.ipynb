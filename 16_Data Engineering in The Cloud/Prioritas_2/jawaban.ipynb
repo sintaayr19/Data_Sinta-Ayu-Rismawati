{
 "cells": [
  {
   "cell_type": "code",
   "execution_count": 3,
   "metadata": {},
   "outputs": [],
   "source": [
    "import pandas as pd\n",
    "import numpy as np\n",
    "import os\n",
    "from dotenv import load_dotenv\n",
    "import firebase_admin\n",
    "from firebase_admin import credentials, storage"
   ]
  },
  {
   "cell_type": "code",
   "execution_count": 6,
   "metadata": {},
   "outputs": [],
   "source": [
    "load_dotenv()\n",
    "credentials_path = os.getenv('FIREBASE_CREDENTIALS_PATH')\n",
    "cred = credentials.Certificate(credentials_path)\n",
    "# firebase_admin.initialize_app(cred)\n",
    "bucket = storage.bucket(\"miniproject-de.appspot.com\")"
   ]
  },
  {
   "cell_type": "code",
   "execution_count": 16,
   "metadata": {},
   "outputs": [
    {
     "name": "stdout",
     "output_type": "stream",
     "text": [
      "File uploaded successfully!\n"
     ]
    }
   ],
   "source": [
    "saham = pd.read_json('saham.json')\n",
    "saham = saham[saham['stock_symbol'].isin(['GOOGL','AMZN','MSFT','AAPL'])]\n",
    "saham = saham[saham['trade_price'] > 500]\n",
    "saham.to_csv('saham_done.csv')\n",
    "\n",
    "file_ref = bucket.blob('saham_done.csv')\n",
    "file_ref.upload_from_filename('saham_done.csv')\n",
    "print(\"File uploaded successfully!\")"
   ]
  }
 ],
 "metadata": {
  "kernelspec": {
   "display_name": "Python 3",
   "language": "python",
   "name": "python3"
  },
  "language_info": {
   "codemirror_mode": {
    "name": "ipython",
    "version": 3
   },
   "file_extension": ".py",
   "mimetype": "text/x-python",
   "name": "python",
   "nbconvert_exporter": "python",
   "pygments_lexer": "ipython3",
   "version": "3.12.2"
  }
 },
 "nbformat": 4,
 "nbformat_minor": 2
}
