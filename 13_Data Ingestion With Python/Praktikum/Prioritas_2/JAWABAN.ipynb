{
 "cells": [
  {
   "cell_type": "code",
   "execution_count": null,
   "metadata": {},
   "outputs": [],
   "source": [
    "! pip list"
   ]
  },
  {
   "cell_type": "code",
   "execution_count": null,
   "metadata": {},
   "outputs": [],
   "source": [
    "! pip install beautifulsoup4"
   ]
  },
  {
   "cell_type": "code",
   "execution_count": 35,
   "metadata": {},
   "outputs": [],
   "source": [
    "import requests\n",
    "from bs4 import BeautifulSoup\n",
    "import pandas as pd\n",
    "\n",
    "base_url = \"https://somethinc.com/en/collection/skincare/\"\n",
    "current_page = 1\n",
    "all_products=[]\n",
    "\n",
    "while True :\n",
    "    url = base_url + str(current_page)\n",
    "    response = requests.get(url)\n",
    "\n",
    "    if response.status_code==200:\n",
    "        html = BeautifulSoup(response.content, 'html.parser')\n",
    "        products = html.find_all(\"div\", class_=\"col-d2 col-md-d3 col-xl-d4 products-item\")\n",
    "        for product in products :\n",
    "            link_product = product.find(\"a\")['href']\n",
    "            soldout_product = product.find(\"div\", class_=\"oos\")\n",
    "            if soldout_product:\n",
    "                break\n",
    "            else :\n",
    "                product_name = product.find(\"div\", class_=\"title\").get_text()\n",
    "                product_price = product.find(\"div\", class_=\"price price-hover\")\n",
    "                if product_price :\n",
    "                    discount_price = product_price.find(\"span\", class_=\"text-danger\")\n",
    "                    if discount_price :\n",
    "                        product_price = discount_price.get_text()\n",
    "                    else :\n",
    "                        product_price = product_price.get_text().strip()\n",
    "\n",
    "            product_data = {\n",
    "                \"Product Name\": product_name,\n",
    "                \"Price\": product_price,\n",
    "                \"Link\": link_product\n",
    "            }\n",
    "            all_products.append(product_data)\n",
    "\n",
    "        if soldout_product:\n",
    "            break\n",
    "        current_page += 1\n",
    "    else:\n",
    "        break\n",
    "df_all_products = pd.DataFrame(all_products)\n",
    "df_all_products.to_csv(\"somethinc_products.csv\")"
   ]
  }
 ],
 "metadata": {
  "kernelspec": {
   "display_name": "Python 3",
   "language": "python",
   "name": "python3"
  },
  "language_info": {
   "codemirror_mode": {
    "name": "ipython",
    "version": 3
   },
   "file_extension": ".py",
   "mimetype": "text/x-python",
   "name": "python",
   "nbconvert_exporter": "python",
   "pygments_lexer": "ipython3",
   "version": "3.12.2"
  }
 },
 "nbformat": 4,
 "nbformat_minor": 2
}
