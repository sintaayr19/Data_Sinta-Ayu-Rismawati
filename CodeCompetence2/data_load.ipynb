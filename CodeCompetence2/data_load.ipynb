{
 "cells": [
  {
   "cell_type": "code",
   "execution_count": 3,
   "metadata": {},
   "outputs": [],
   "source": [
    "import pandas as pd\n",
    "from firebase_admin import credentials, storage"
   ]
  },
  {
   "cell_type": "code",
   "execution_count": 6,
   "metadata": {},
   "outputs": [],
   "source": [
    "# Extract \n",
    "ticket_sold_per_event = pd.read_parquet('C:/MSIB_DE/Data_Sinta-Ayu-Rismawati/CodeCompetence2/DataForDW/ticket_sold_per_event.parquet')\n",
    "revenue_per_event = pd.read_parquet('C:/MSIB_DE/Data_Sinta-Ayu-Rismawati/CodeCompetence2/DataForDW/revenue_per_event.parquet')\n",
    "feedback_analysis = pd.read_parquet('C:/MSIB_DE/Data_Sinta-Ayu-Rismawati/CodeCompetence2/DataForDW/feedback_analysis.parquet')"
   ]
  },
  {
   "cell_type": "code",
   "execution_count": 9,
   "metadata": {},
   "outputs": [],
   "source": [
    "credentials_path = ('C:/MSIB_DE/Data_Sinta-Ayu-Rismawati/CodeCompetence2/miniproject-de-firebase-adminsdk-t4ogl-310896718d.json')\n",
    "cred = credentials.Certificate(credentials_path)\n",
    "bucket = storage.bucket('miniproject-de.appspot.com')"
   ]
  },
  {
   "cell_type": "code",
   "execution_count": 10,
   "metadata": {},
   "outputs": [
    {
     "name": "stdout",
     "output_type": "stream",
     "text": [
      "File uploaded successfully!\n",
      "File uploaded successfully!\n",
      "File uploaded successfully!\n"
     ]
    }
   ],
   "source": [
    "# import to cloud\n",
    "file_ref = bucket.blob('ticket_sold_per_event.parquet')\n",
    "file_ref.upload_from_filename('C:/MSIB_DE/Data_Sinta-Ayu-Rismawati/CodeCompetence2/DataForDW/ticket_sold_per_event.parquet')\n",
    "print(\"File uploaded successfully!\")\n",
    "\n",
    "file_ref = bucket.blob('revenue_per_event.parquet')\n",
    "file_ref.upload_from_filename('C:/MSIB_DE/Data_Sinta-Ayu-Rismawati/CodeCompetence2/DataForDW/revenue_per_event.parquet')\n",
    "print(\"File uploaded successfully!\")\n",
    "\n",
    "file_ref = bucket.blob('feedback_analysis.parquet')\n",
    "file_ref.upload_from_filename('C:/MSIB_DE/Data_Sinta-Ayu-Rismawati/CodeCompetence2/DataForDW/feedback_analysis.parquet')\n",
    "print(\"File uploaded successfully!\")"
   ]
  }
 ],
 "metadata": {
  "kernelspec": {
   "display_name": "Python 3",
   "language": "python",
   "name": "python3"
  },
  "language_info": {
   "codemirror_mode": {
    "name": "ipython",
    "version": 3
   },
   "file_extension": ".py",
   "mimetype": "text/x-python",
   "name": "python",
   "nbconvert_exporter": "python",
   "pygments_lexer": "ipython3",
   "version": "3.11.9"
  }
 },
 "nbformat": 4,
 "nbformat_minor": 2
}
