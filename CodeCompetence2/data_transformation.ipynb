{
 "cells": [
  {
   "cell_type": "code",
   "execution_count": 1,
   "metadata": {},
   "outputs": [],
   "source": [
    "import pandas as pd"
   ]
  },
  {
   "cell_type": "code",
   "execution_count": 26,
   "metadata": {},
   "outputs": [],
   "source": [
    "# Load data\n",
    "customer_feedback = pd.read_parquet('C:/MSIB_DE/Data_Sinta-Ayu-Rismawati/CodeCompetence2/DataIngestionResult/customer_feedback.parquet')\n",
    "customers = pd.read_parquet('C:/MSIB_DE/Data_Sinta-Ayu-Rismawati/CodeCompetence2/DataIngestionResult/customers.parquet')\n",
    "events = pd.read_parquet('C:/MSIB_DE/Data_Sinta-Ayu-Rismawati/CodeCompetence2/DataIngestionResult/events.parquet')\n",
    "tickets = pd.read_parquet('C:/MSIB_DE/Data_Sinta-Ayu-Rismawati/CodeCompetence2/DataIngestionResult/tickets.parquet')\n",
    "transactions = pd.read_parquet('C:/MSIB_DE/Data_Sinta-Ayu-Rismawati/CodeCompetence2/DataIngestionResult/transactions.parquet')\n",
    "\n",
    "# Transform \n",
    "combine1 = pd.merge(transactions, tickets, on=['ticket_id'], suffixes=('_transaction', '_tickets'))\n",
    "combine2 = pd.merge(combine1, events, on=['event_id'], suffixes=('_ticket', '_event'))\n",
    "combine2 = combine2.rename(columns={'date_ticket' : 'transaction_date'})\n",
    "combine3 = pd.merge(transactions, customer_feedback, on=['transaction_id'])\n",
    "combine4 = pd.merge(tickets, combine3, on=['ticket_id'])\n",
    "combine5 = pd.merge(combine4, events, on=['event_id'])\n",
    "\n",
    "# ticket_sold_per_event\n",
    "ticket_sold_per_event = combine2.groupby(['event_id'], as_index=False).agg({\n",
    "    'quantity' : 'sum',\n",
    "    'event_id' : 'first',\n",
    "    'name' : 'first',\n",
    "    'location' : 'first',\n",
    "    'category_event' : 'first'\n",
    "})\n",
    "ticket_sold_per_event = ticket_sold_per_event[['event_id', 'name', 'location', 'category_event', 'quantity']]\n",
    "ticket_sold_per_event = ticket_sold_per_event.rename(columns={'quantity' : 'sold_quantity'})\n",
    "ticket_sold_per_event.to_parquet('C:/MSIB_DE/Data_Sinta-Ayu-Rismawati/CodeCompetence2/DataForDW/ticket_sold_per_event.parquet')\n",
    "\n",
    "# revenue_per_event\n",
    "revenue_per_event = combine2.groupby(['event_id'], as_index=False).agg({\n",
    "    'event_id' : 'first',\n",
    "    'name' : 'first',\n",
    "    'location' : 'first',\n",
    "    'category_event' : 'first',\n",
    "    'total_amount' : 'sum'\n",
    "})\n",
    "revenue_per_event = revenue_per_event[['event_id', 'name', 'location', 'category_event', 'total_amount']]\n",
    "revenue_per_event.to_parquet('C:/MSIB_DE/Data_Sinta-Ayu-Rismawati/CodeCompetence2/DataForDW/revenue_per_event.parquet')\n",
    "\n",
    "# feedback analysis\n",
    "feedback_analysis = combine5.groupby(['event_id'], as_index=False).agg({\n",
    "    'event_id' : 'first',\n",
    "    'name' : 'first',\n",
    "    'rating' : 'mean'\n",
    "})\n",
    "feedback_analysis.to_parquet('C:/MSIB_DE/Data_Sinta-Ayu-Rismawati/CodeCompetence2/DataForDW/feedback_analysis.parquet')"
   ]
  },
  {
   "cell_type": "code",
   "execution_count": 25,
   "metadata": {},
   "outputs": [
    {
     "data": {
      "text/html": [
       "<div>\n",
       "<style scoped>\n",
       "    .dataframe tbody tr th:only-of-type {\n",
       "        vertical-align: middle;\n",
       "    }\n",
       "\n",
       "    .dataframe tbody tr th {\n",
       "        vertical-align: top;\n",
       "    }\n",
       "\n",
       "    .dataframe thead th {\n",
       "        text-align: right;\n",
       "    }\n",
       "</style>\n",
       "<table border=\"1\" class=\"dataframe\">\n",
       "  <thead>\n",
       "    <tr style=\"text-align: right;\">\n",
       "      <th></th>\n",
       "      <th>event_id</th>\n",
       "      <th>name</th>\n",
       "      <th>rating</th>\n",
       "    </tr>\n",
       "  </thead>\n",
       "  <tbody>\n",
       "    <tr>\n",
       "      <th>0</th>\n",
       "      <td>1</td>\n",
       "      <td>Ruteng Coffee and Music Festival</td>\n",
       "      <td>4.5</td>\n",
       "    </tr>\n",
       "    <tr>\n",
       "      <th>1</th>\n",
       "      <td>2</td>\n",
       "      <td>Jember Fashion Carnival</td>\n",
       "      <td>4.0</td>\n",
       "    </tr>\n",
       "    <tr>\n",
       "      <th>2</th>\n",
       "      <td>3</td>\n",
       "      <td>Sumarak Salingka Danau</td>\n",
       "      <td>3.5</td>\n",
       "    </tr>\n",
       "    <tr>\n",
       "      <th>3</th>\n",
       "      <td>4</td>\n",
       "      <td>Festival Pesona Danau Toba</td>\n",
       "      <td>3.5</td>\n",
       "    </tr>\n",
       "    <tr>\n",
       "      <th>4</th>\n",
       "      <td>5</td>\n",
       "      <td>Festival Budaya Tenun Ikat Flores</td>\n",
       "      <td>3.5</td>\n",
       "    </tr>\n",
       "  </tbody>\n",
       "</table>\n",
       "</div>"
      ],
      "text/plain": [
       "   event_id                               name  rating\n",
       "0         1   Ruteng Coffee and Music Festival     4.5\n",
       "1         2            Jember Fashion Carnival     4.0\n",
       "2         3             Sumarak Salingka Danau     3.5\n",
       "3         4         Festival Pesona Danau Toba     3.5\n",
       "4         5  Festival Budaya Tenun Ikat Flores     3.5"
      ]
     },
     "execution_count": 25,
     "metadata": {},
     "output_type": "execute_result"
    }
   ],
   "source": [
    "feedback_analysis"
   ]
  }
 ],
 "metadata": {
  "kernelspec": {
   "display_name": "Python 3",
   "language": "python",
   "name": "python3"
  },
  "language_info": {
   "codemirror_mode": {
    "name": "ipython",
    "version": 3
   },
   "file_extension": ".py",
   "mimetype": "text/x-python",
   "name": "python",
   "nbconvert_exporter": "python",
   "pygments_lexer": "ipython3",
   "version": "3.11.9"
  }
 },
 "nbformat": 4,
 "nbformat_minor": 2
}
