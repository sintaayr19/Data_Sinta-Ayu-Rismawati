{
 "cells": [
  {
   "cell_type": "code",
   "execution_count": 28,
   "metadata": {},
   "outputs": [],
   "source": [
    "import pandas as pd\n",
    "import numpy as np\n",
    "import os\n",
    "from dotenv import load_dotenv\n",
    "import firebase_admin\n",
    "from firebase_admin import credentials, storage"
   ]
  },
  {
   "cell_type": "code",
   "execution_count": 41,
   "metadata": {},
   "outputs": [],
   "source": [
    "load_dotenv()\n",
    "credentials_path = os.getenv('FIREBASE_CREDENTIALS_PATH')\n",
    "cred = credentials.Certificate(credentials_path)\n",
    "# firebase_admin.initialize_app(cred)\n",
    "bucket = storage.bucket(\"miniproject-de.appspot.com\")"
   ]
  },
  {
   "cell_type": "code",
   "execution_count": 31,
   "metadata": {},
   "outputs": [
    {
     "name": "stdout",
     "output_type": "stream",
     "text": [
      "File uploaded successfully!\n"
     ]
    }
   ],
   "source": [
    "# Prioritas 1\n",
    "survey = pd.read_csv('survey.csv')\n",
    "survey['age'] = survey['age'].astype(str)\n",
    "survey['age'] = survey['age'].replace('-', np.nan)\n",
    "survey['favorite_front_end'] = survey['favorite_front_end'].replace('-',np.nan)\n",
    "survey = survey.drop_duplicates()\n",
    "survey = survey.dropna()\n",
    "survey.to_csv('survey_done.csv')\n",
    "\n",
    "file_ref = bucket.blob('survey_done.csv')\n",
    "file_ref.upload_from_filename('survey_done.csv')\n",
    "print(\"File uploaded successfully!\")\n"
   ]
  },
  {
   "cell_type": "code",
   "execution_count": 39,
   "metadata": {},
   "outputs": [
    {
     "name": "stdout",
     "output_type": "stream",
     "text": [
      "File uploaded successfully!\n"
     ]
    }
   ],
   "source": [
    "# Prioritas 2\n",
    "data_transaksi = pd.read_json('data_transaksi.json')\n",
    "data_transaksi = data_transaksi[(data_transaksi['payment_method'] == 'credit card') & (data_transaksi['status'] == 'success')]\n",
    "data_transaksi.to_csv('credit_card_success.csv')\n",
    "file_ref = bucket.blob('credit_card_success.csv')\n",
    "file_ref.upload_from_filename('credit_card_success.csv')\n",
    "print(\"File uploaded successfully!\")"
   ]
  }
 ],
 "metadata": {
  "kernelspec": {
   "display_name": "Python 3",
   "language": "python",
   "name": "python3"
  },
  "language_info": {
   "codemirror_mode": {
    "name": "ipython",
    "version": 3
   },
   "file_extension": ".py",
   "mimetype": "text/x-python",
   "name": "python",
   "nbconvert_exporter": "python",
   "pygments_lexer": "ipython3",
   "version": "3.12.2"
  }
 },
 "nbformat": 4,
 "nbformat_minor": 2
}
