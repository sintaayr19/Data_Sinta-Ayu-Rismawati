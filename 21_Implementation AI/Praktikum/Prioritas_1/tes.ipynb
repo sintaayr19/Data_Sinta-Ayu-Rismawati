{
 "cells": [
  {
   "cell_type": "code",
   "execution_count": null,
   "metadata": {},
   "outputs": [],
   "source": [
    "! pip install google-generativeai"
   ]
  },
  {
   "cell_type": "code",
   "execution_count": null,
   "metadata": {},
   "outputs": [],
   "source": [
    "! pip list"
   ]
  },
  {
   "cell_type": "code",
   "execution_count": 14,
   "metadata": {},
   "outputs": [],
   "source": [
    "! pip install -q -U google-generativeai"
   ]
  },
  {
   "cell_type": "code",
   "execution_count": 2,
   "metadata": {},
   "outputs": [],
   "source": [
    "import yaml\n",
    "\n",
    "with open('gemini_key.yml', 'r') as file:\n",
    "    api_creds = yaml.safe_load(file)\n",
    "\n",
    "GOOGLE_API_KEY = api_creds['gemini_key']\n"
   ]
  },
  {
   "cell_type": "code",
   "execution_count": null,
   "metadata": {},
   "outputs": [],
   "source": [
    "import google.generativeai as genai\n",
    "\n",
    "genai.configure(api_key=GOOGLE_API_KEY)\n",
    "model = genai.GenerativeModel('gemini-pro')\n",
    "\n",
    "response = model.generate_content(\"Create a structured list in CSV format with 50 entries of date, sales_amount, price, product_category. Each attribute must be separated by commas and each entry must be on a new line. Then analyze the total number of sales_amount each product_category\")\n",
    "print(response.text)"
   ]
  },
  {
   "cell_type": "code",
   "execution_count": null,
   "metadata": {},
   "outputs": [],
   "source": [
    "import pandas as pd\n",
    "import matplotlib.pyplot as plt\n",
    "\n",
    "df = pd.read_csv('penjualan.csv')\n",
    "\n",
    "sales_amount_by_category = df.groupby(['product_category']).sum(numeric_only=True)\n",
    "prouduct_category = sales_amount_by_category.index.get_level_values(0).to_list()\n",
    "total_sales_amount = sales_amount_by_category['sales_amount']\n",
    "\n",
    "plt.xlabel(\"Product Category\")\n",
    "plt.ylabel(\"Total Sales Amount\")\n",
    "plt.bar(prouduct_category, total_sales_amount)\n",
    "\n",
    "plt.show()"
   ]
  },
  {
   "cell_type": "markdown",
   "metadata": {},
   "source": [
    "Perbandingan hasil :"
   ]
  },
  {
   "cell_type": "markdown",
   "metadata": {},
   "source": [
    "hasil analisis tradisional lebih akurat dibandingkan hasil dari gemini api."
   ]
  }
 ],
 "metadata": {
  "kernelspec": {
   "display_name": "Python 3",
   "language": "python",
   "name": "python3"
  },
  "language_info": {
   "codemirror_mode": {
    "name": "ipython",
    "version": 3
   },
   "file_extension": ".py",
   "mimetype": "text/x-python",
   "name": "python",
   "nbconvert_exporter": "python",
   "pygments_lexer": "ipython3",
   "version": "3.12.2"
  }
 },
 "nbformat": 4,
 "nbformat_minor": 2
}
