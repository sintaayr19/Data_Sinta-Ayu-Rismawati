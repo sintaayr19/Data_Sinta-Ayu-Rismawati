{
 "cells": [
  {
   "cell_type": "code",
   "execution_count": 2,
   "metadata": {},
   "outputs": [
    {
     "name": "stderr",
     "output_type": "stream",
     "text": [
      "c:\\Users\\SINTA\\AppData\\Local\\Programs\\Python\\Python312\\Lib\\site-packages\\tqdm\\auto.py:21: TqdmWarning: IProgress not found. Please update jupyter and ipywidgets. See https://ipywidgets.readthedocs.io/en/stable/user_install.html\n",
      "  from .autonotebook import tqdm as notebook_tqdm\n"
     ]
    }
   ],
   "source": [
    "import yaml\n",
    "import google.generativeai as genai"
   ]
  },
  {
   "cell_type": "code",
   "execution_count": 3,
   "metadata": {},
   "outputs": [],
   "source": [
    "with open('gemini_key.yml', 'r') as file:\n",
    "    api_creds = yaml.safe_load(file)\n",
    "\n",
    "GOOGLE_API_KEY = api_creds['gemini_key']\n",
    "\n",
    "genai.configure(api_key=GOOGLE_API_KEY)\n",
    "model = genai.GenerativeModel('gemini-pro')"
   ]
  },
  {
   "cell_type": "code",
   "execution_count": 14,
   "metadata": {},
   "outputs": [
    {
     "name": "stdout",
     "output_type": "stream",
     "text": [
      "**Analisis Deskriptif**\n",
      "\n",
      "Grafik perbandingan menunjukkan tren pertumbuhan pendapatan dua perusahaan, Perusahaan A dan Perusahaan B, selama periode lima tahun dari 2018 hingga 2022.\n",
      "\n",
      "* **Perusahaan A:**\n",
      "    * Menunjukkan pertumbuhan pendapatan yang konsisten dari tahun ke tahun.\n",
      "    * Pertumbuhan pendapatan tertinggi pada 2021 sebesar 25%.\n",
      "    * Total pertumbuhan pendapatan kumulatif sebesar 60% dari 2018 hingga 2022.\n",
      "* **Perusahaan B:**\n",
      "    * Pendapatan menurun pada 2019 dan 2020.\n",
      "    * Pertumbuhan pendapatan yang pesat pada 2021 sebesar 40%.\n",
      "    * Pertumbuhan pendapatan kumulatif sebesar 25% dari 2018 hingga 2022.\n",
      "\n",
      "**Insight**\n",
      "\n",
      "Grafik menunjukkan beberapa insight yang berguna:\n",
      "\n",
      "* **Keunggulan Perusahaan A:** Perusahaan A telah secara konsisten menunjukkan pertumbuhan pendapatan yang kuat selama periode lima tahun. Ini menunjukkan stabilitas dan pertumbuhan bisnis yang berkelanjutan.\n",
      "* **Kesulitan Perusahaan B:** Perusahaan B menghadapi tantangan pada 2019 dan 2020, menyebabkan penurunan pendapatan. Namun, perusahaan tersebut menunjukkan pemulihan yang signifikan pada 2021 dengan pertumbuhan pendapatan yang pesat.\n",
      "* **Persaingan Ketat:** Grafik menunjukkan persaingan yang ketat antara kedua perusahaan. Perusahaan A memiliki keunggulan dalam pertumbuhan pendapatan kumulatif, sementara Perusahaan B menunjukkan potensi untuk pertumbuhan yang lebih pesat di masa depan.\n",
      "* **Prediksi Tren Masa Depan:** Sulit untuk memprediksi tren masa depan berdasarkan grafik saja. Namun, jika tren saat ini berlanjut, Perusahaan A diperkirakan akan mempertahankan pertumbuhan pendapatan yang kuat, sementara Perusahaan B berpotensi mengejar ketinggalan dan menunjukkan kinerja yang lebih baik.\n",
      "\n",
      "**Rekomendasi:**\n",
      "\n",
      "Berdasarkan insight ini, perusahaan-perusahaan harus mempertimbangkan tindakan berikut:\n",
      "\n",
      "* **Perusahaan A:**\n",
      "    * Terus berinvestasi dalam strategi pertumbuhan yang sukses.\n",
      "    * Menjelajahi peluang baru untuk mempertahankan momentum pertumbuhan.\n",
      "* **Perusahaan B:**\n",
      "    * Menganalisis alasan penurunan pendapatan pada 2019 dan 2020.\n",
      "    * Menerapkan strategi untuk mengatasi tantangan dan memfasilitasi pertumbuhan berkelanjutan.\n",
      "    * Memantau kinerja Perusahaan A untuk mengidentifikasi peluang untuk mengejar ketinggalan.\n"
     ]
    }
   ],
   "source": [
    "response = model.generate_content(\"Berikan analisis dsekriptif serta insight dari grafik berikut {comparison_graphic.png}\")\n",
    "print(response.text)"
   ]
  },
  {
   "cell_type": "code",
   "execution_count": 16,
   "metadata": {},
   "outputs": [
    {
     "name": "stdout",
     "output_type": "stream",
     "text": [
      "**Analisis Matriks Korelasi**\n",
      "\n",
      "Matriks korelasi menyajikan korelasi antara berbagai variabel dalam dataset. Nilai korelasi berkisar antara -1 hingga 1, di mana:\n",
      "\n",
      "* -1: Korelasi negatif sempurna\n",
      "* 0: Tidak ada korelasi\n",
      "* 1: Korelasi positif sempurna\n",
      "\n",
      "**Insight dari Matriks Korelasi:**\n",
      "\n",
      "* **Population dan GDP:** Korelasi kuat dan positif (0,97), menunjukkan bahwa negara dengan populasi lebih besar cenderung memiliki GDP yang lebih tinggi.\n",
      "* **Rural Population Percent dan GDP:** Korelasi sedang dan negatif (-0,58), menunjukkan bahwa negara dengan persentase penduduk pedesaan yang lebih tinggi cenderung memiliki GDP yang lebih rendah.\n",
      "* **Electricity Access Percent dan GDP:** Korelasi kuat dan positif (0,85), menunjukkan bahwa negara dengan persentase akses listrik yang lebih tinggi cenderung memiliki GDP yang lebih tinggi.\n",
      "* **Project Cost dan GDP:** Tidak ada korelasi yang signifikan (-0,15), menunjukkan bahwa biaya proyek pembangunan tidak terkait dengan PDB suatu negara.\n",
      "* **Rural Population Percent dan Population:** Korelasi kuat dan positif (0,81), menunjukkan bahwa negara dengan populasi lebih besar cenderung memiliki persentase penduduk pedesaan yang lebih tinggi.\n",
      "* **Rural Population Percent dan Electricity Access Percent:** Korelasi negatif sedang (-0,48), menunjukkan bahwa negara dengan persentase penduduk pedesaan yang lebih tinggi cenderung memiliki persentase akses listrik yang lebih rendah.\n",
      "* **Electricity Access Percent dan Population:** Korelasi kuat dan positif (0,89), menunjukkan bahwa negara dengan populasi lebih besar cenderung memiliki persentase akses listrik yang lebih tinggi.\n",
      "* **Project Cost dan Rural Population Percent:** Korelasi positif sedang (0,45), menunjukkan bahwa biaya proyek pembangunan cenderung lebih tinggi di negara-negara dengan persentase penduduk pedesaan yang lebih tinggi.\n",
      "* **Project Cost dan Electricity Access Percent:** Korelasi positif sedang (0,42), menunjukkan bahwa biaya proyek pembangunan cenderung lebih tinggi di negara-negara dengan persentase akses listrik yang lebih tinggi.\n",
      "* **GDP Per Capita dan Population:** Korelasi sedang dan negatif (-0,52), menunjukkan bahwa negara dengan populasi lebih besar cenderung memiliki PDB per kapita yang lebih rendah.\n",
      "* **GDP Per Capita dan Rural Population Percent:** Korelasi sedang dan negatif (-0,46), menunjukkan bahwa negara dengan persentase penduduk pedesaan yang lebih tinggi cenderung memiliki PDB per kapita yang lebih rendah.\n",
      "* **GDP Per Capita dan Electricity Access Percent:** Korelasi kuat dan positif (0,82), menunjukkan bahwa negara dengan persentase akses listrik yang lebih tinggi cenderung memiliki PDB per kapita yang lebih tinggi.\n",
      "* **GDP Per Capita dan Project Cost:** Tidak ada korelasi yang signifikan (-0,14), menunjukkan bahwa GDP per kapita tidak terkait dengan biaya proyek pembangunan.\n"
     ]
    }
   ],
   "source": [
    "response = model.generate_content(\"Berikut adalah correlation matrix dari data beberapa negara dengan variable population, gdp, rural_population_percent, electricity_access_percent, project_cost, gdp_per_capita {correlation_matrix.png}. berikan anaisis deskritif dan insight dari grafik tersebut\")\n",
    "print(response.text)"
   ]
  },
  {
   "cell_type": "code",
   "execution_count": 18,
   "metadata": {},
   "outputs": [
    {
     "name": "stdout",
     "output_type": "stream",
     "text": [
      "**Analisis Deskriptif**\n",
      "\n",
      "Grafik distribusi menunjukkan distribusi variabel berikut untuk beberapa negara:\n",
      "\n",
      "* Populasi\n",
      "* PDB\n",
      "* Persentase Penduduk Pedesaan\n",
      "* Persentase Akses Listrik\n",
      "* Biaya Proyek\n",
      "* PDB per Kapita\n",
      "\n",
      "**Insight**\n",
      "\n",
      "**Populasi**\n",
      "\n",
      "* Mayoritas negara memiliki populasi antara 10 juta dan 100 juta.\n",
      "* Ada beberapa negara dengan populasi yang sangat tinggi (lebih dari 1 miliar).\n",
      "* Ada juga beberapa negara dengan populasi yang sangat rendah (kurang dari 1 juta).\n",
      "\n",
      "**PDB**\n",
      "\n",
      "* Mayoritas negara memiliki PDB antara $100 miliar dan $1 triliun.\n",
      "* Ada beberapa negara dengan PDB yang sangat tinggi (lebih dari $1 triliun).\n",
      "* Ada juga beberapa negara dengan PDB yang sangat rendah (kurang dari $100 miliar).\n",
      "\n",
      "**Persentase Penduduk Pedesaan**\n",
      "\n",
      "* Sebagian besar negara memiliki persentase penduduk pedesaan antara 20% dan 80%.\n",
      "* Ada beberapa negara dengan persentase penduduk pedesaan yang sangat tinggi (lebih dari 80%).\n",
      "* Ada juga beberapa negara dengan persentase penduduk pedesaan yang sangat rendah (kurang dari 20%).\n",
      "\n",
      "**Persentase Akses Listrik**\n",
      "\n",
      "* Mayoritas negara memiliki akses listrik antara 50% dan 100%.\n",
      "* Ada beberapa negara dengan akses listrik yang sangat tinggi (lebih dari 95%).\n",
      "* Ada juga beberapa negara dengan akses listrik yang sangat rendah (kurang dari 50%).\n",
      "\n",
      "**Biaya Proyek**\n",
      "\n",
      "* Biaya proyek berkisar antara $100 juta dan $10 miliar.\n",
      "* Ada beberapa proyek dengan biaya yang sangat tinggi (lebih dari $10 miliar).\n",
      "* Ada juga beberapa proyek dengan biaya yang sangat rendah (kurang dari $100 juta).\n",
      "\n",
      "**PDB per Kapita**\n",
      "\n",
      "* PDB per kapita sebagian besar negara berkisar antara $1.000 dan $10.000.\n",
      "* Ada beberapa negara dengan PDB per kapita yang sangat tinggi (lebih dari $10.000).\n",
      "* Ada juga beberapa negara dengan PDB per kapita yang sangat rendah (kurang dari $1.000).\n",
      "\n",
      "**Kesimpulan**\n",
      "\n",
      "Grafik distribusi memberikan gambaran distribusi berbagai variabel untuk beberapa negara. Wawasan yang diperoleh meliputi:\n",
      "\n",
      "* Ketidakseimbangan yang signifikan dalam populasi, PDB, dan pembangunan ekonomi antar negara.\n",
      "* Pentingnya akses listrik sebagai indikator pembangunan.\n",
      "* Hubungan antara PDB per kapita dan biaya proyek.\n"
     ]
    }
   ],
   "source": [
    "response = model.generate_content(\"Berikut adalah grafik distribusi dari data beberapa negara dengan variable population, gdp, rural_population_percent, electricity_access_percent, project_cost, gdp_per_capita {Distribution_of_Variales.png}. berikan anaisis deskritif dan insight dari grafik tersebut\")\n",
    "print(response.text)"
   ]
  },
  {
   "cell_type": "code",
   "execution_count": 6,
   "metadata": {},
   "outputs": [
    {
     "name": "stdout",
     "output_type": "stream",
     "text": [
      "**Analisis Deskriptif**\n",
      "\n",
      "**Population:**\n",
      "* Indonesia memiliki populasi tertinggi, diikuti oleh Filipina dan Vietnam.\n",
      "* Populasi ketiganya menunjukkan distribusi yang miring ke kanan, menunjukkan adanya beberapa negara dengan populasi yang sangat besar.\n",
      "\n",
      "**GDP:**\n",
      "* Indonesia memiliki PDB tertinggi, diikuti oleh Filipina dan Vietnam.\n",
      "* Distribusi PDB mirip dengan populasi, dengan beberapa negara memiliki PDB yang sangat tinggi.\n",
      "\n",
      "**Rural Population Percentage:**\n",
      "* Vietnam memiliki persentase penduduk pedesaan tertinggi, diikuti oleh Indonesia dan Filipina.\n",
      "* Filipina memiliki distribusi persentase penduduk pedesaan yang lebih merata dibandingkan kedua negara lainnya.\n",
      "\n",
      "**Electricity Access Percentage:**\n",
      "* Indonesia dan Filipina memiliki persentase akses listrik yang lebih tinggi dibandingkan Vietnam.\n",
      "* Filipina memiliki distribusi akses listrik yang lebih merata dibandingkan Indonesia dan Vietnam.\n",
      "\n",
      "**Project Cost:**\n",
      "* Vietnam memiliki biaya proyek tertinggi, diikuti oleh Filipina dan Indonesia.\n",
      "* Biaya proyek menunjukkan distribusi yang miring ke kanan, menunjukkan adanya beberapa proyek dengan biaya yang sangat tinggi.\n",
      "\n",
      "**GDP per Capita:**\n",
      "* Filipina memiliki PDB per kapita tertinggi, diikuti oleh Indonesia dan Vietnam.\n",
      "* PDB per kapita menunjukkan distribusi yang miring ke kanan, menunjukkan adanya beberapa negara dengan PDB per kapita yang sangat tinggi.\n",
      "\n",
      "**Insight**\n",
      "\n",
      "* **Indonesia dan Filipina memiliki populasi dan PDB tertinggi:** Kedua negara ini memiliki ekonomi dan populasi yang besar, yang dapat memberikan peluang dan tantangan bagi investasi dan pembangunan.\n",
      "* **Vietnam memiliki persentase penduduk pedesaan tertinggi dan akses listrik terendah:** Hal ini menunjukkan adanya kesenjangan pembangunan di Vietnam, dengan fokus yang lebih besar pada daerah pedesaan.\n",
      "* **Filipina memiliki distribusi yang lebih merata untuk akses listrik dan persentase penduduk pedesaan:** Hal ini menunjukkan bahwa Filipina telah melakukan upaya yang lebih baik dalam menyediakan akses dasar ke infrastruktur dan layanan.\n",
      "* **Vietnam memiliki biaya proyek tertinggi dan PDB per kapita terendah:** Hal ini menunjukkan bahwa Vietnam mungkin menghadapi tantangan dalam mendanai dan melaksanakan proyek pembangunan.\n",
      "* **Filipina memiliki PDB per kapita tertinggi:** Hal ini menunjukkan bahwa Filipina mungkin memiliki tingkat pembangunan ekonomi yang lebih tinggi dibandingkan kedua negara lainnya.\n",
      "\n",
      "Secara keseluruhan, grafik distribusi memberikan gambaran mendalam tentang karakteristik dan tantangan pembangunan di Indonesia, Filipina, dan Vietnam. Data tersebut menyoroti perlunya intervensi yang ditargetkan untuk mengatasi kesenjangan pembangunan dan meningkatkan tingkat hidup masyarakat di ketiga negara tersebut.\n"
     ]
    }
   ],
   "source": [
    "response = model.generate_content(\"Dari data berikut {data_to_analyze.csv} dihasilkan grafik distribusi dari 3 negara (Indonesia, Philippines, Vietnam) dengan variable population, gdp, rural_population_percent, electricity_access_percent, project_cost, gdp_per_capita, berikut adalah grafiknya {Distribution_of_Variales.png}. berikan anaisis deskritif dan insight dari grafik tersebut\")\n",
    "print(response.text)"
   ]
  },
  {
   "cell_type": "code",
   "execution_count": 20,
   "metadata": {},
   "outputs": [
    {
     "name": "stdout",
     "output_type": "stream",
     "text": [
      "**Analisis Deskriptif**\n",
      "\n",
      "Grafik tren menunjukkan tren PDB per kapita dari tiga negara Asia Tenggara: Indonesia, Filipina, dan Vietnam.\n",
      "\n",
      "* **Indonesia:** PDB per kapita Indonesia menunjukkan tren pertumbuhan yang stabil, dengan kenaikan bertahap dari tahun ke tahun.\n",
      "* **Filipina:** PDB per kapita Filipina juga tumbuh secara stabil, tetapi pada tingkat yang lebih cepat dibandingkan Indonesia.\n",
      "* **Vietnam:** PDB per kapita Vietnam mengalami pertumbuhan yang luar biasa, dengan peningkatan substansial dari tahun ke tahun.\n",
      "\n",
      "**Insight**\n",
      "\n",
      "Grafik tren menyoroti beberapa wawasan penting:\n",
      "\n",
      "* **Pertumbuhan Ekonomi yang Berkelanjutan:** Ketiga negara tersebut menunjukkan pertumbuhan ekonomi yang berkelanjutan selama periode yang diamati. Hal ini menunjukkan bahwa mereka telah mengimplementasikan kebijakan ekonomi yang efektif dan memiliki lingkungan bisnis yang menguntungkan.\n",
      "* **Meningkatnya Kesenjangan:** Meskipun ketiga negara tersebut mengalami pertumbuhan ekonomi, terdapat perbedaan yang signifikan dalam laju pertumbuhan PDB per kapita. Vietnam muncul sebagai negara dengan pertumbuhan paling cepat, diikuti oleh Filipina dan kemudian Indonesia. Hal ini dapat mencerminkan perbedaan dalam kebijakan ekonomi, lingkungan bisnis, dan faktor-faktor lain.\n",
      "* **Potensi Vietnam:** PDB per kapita Vietnam yang tumbuh secara luar biasa menunjukkan potensi ekonomi negara tersebut. Vietnam telah berhasil menarik investasi asing, mengembangkan sektor manufaktur, dan meningkatkan ekspornya. Pertumbuhan yang berkelanjutan ini diperkirakan akan berlanjut di masa depan.\n",
      "* **Tantangan Indonesia:** Meskipun Indonesia mengalami pertumbuhan yang stabil, tingkat pertumbuhan PDB per kapitanya lebih lambat dibandingkan Filipina dan Vietnam. Hal ini menunjukkan perlunya Indonesia untuk mempercepat reformasi ekonomi dan meningkatkan investasi dalam infrastruktur dan pendidikan.\n",
      "* **Kompetisi Regional:** Ketiga negara tersebut bersaing untuk menarik investasi dan ekspor. Pertumbuhan ekonomi yang berkelanjutan dan kesejahteraan warga negaranya akan sangat bergantung pada kemampuan mereka untuk mempertahankan keunggulan kompetitif di kawasan Asia Tenggara.\n",
      "\n",
      "Kesimpulannya, grafik tren PDB per kapita dari Indonesia, Filipina, dan Vietnam menunjukkan pertumbuhan ekonomi yang berkelanjutan, perbedaan dalam tingkat pertumbuhan, dan pentingnya potensi ekonomi Vietnam serta tantangan yang dihadapi Indonesia. Wawasan ini dapat digunakan untuk menginformasikan kebijakan ekonomi dan strategi pembangunan di ketiga negara.\n"
     ]
    }
   ],
   "source": [
    "response = model.generate_content(\"Berikut adalah grafik tren dari GDP per Capita dari negara Indonesia, Philippines, Vietnam {tren_graphic.png}. berikan anaisis deskritif dan insight dari grafik tersebut\")\n",
    "print(response.text)"
   ]
  }
 ],
 "metadata": {
  "kernelspec": {
   "display_name": "Python 3",
   "language": "python",
   "name": "python3"
  },
  "language_info": {
   "codemirror_mode": {
    "name": "ipython",
    "version": 3
   },
   "file_extension": ".py",
   "mimetype": "text/x-python",
   "name": "python",
   "nbconvert_exporter": "python",
   "pygments_lexer": "ipython3",
   "version": "3.12.2"
  }
 },
 "nbformat": 4,
 "nbformat_minor": 2
}
